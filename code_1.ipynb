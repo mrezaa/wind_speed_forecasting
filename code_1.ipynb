{
 "cells": [
  {
   "cell_type": "code",
   "execution_count": 71,
   "id": "cff65f03",
   "metadata": {},
   "outputs": [],
   "source": [
    "import numpy as np\n",
    "import pandas as pd\n",
    "from statsmodels.tsa.arima.model import ARIMA\n",
    "from sklearn.metrics import mean_squared_error\n",
    "import matplotlib.pyplot as plt\n",
    "%matplotlib inline"
   ]
  },
  {
   "cell_type": "code",
   "execution_count": 13,
   "id": "ba05ecdb",
   "metadata": {},
   "outputs": [
    {
     "data": {
      "text/html": [
       "<div>\n",
       "<style scoped>\n",
       "    .dataframe tbody tr th:only-of-type {\n",
       "        vertical-align: middle;\n",
       "    }\n",
       "\n",
       "    .dataframe tbody tr th {\n",
       "        vertical-align: top;\n",
       "    }\n",
       "\n",
       "    .dataframe thead th {\n",
       "        text-align: right;\n",
       "    }\n",
       "</style>\n",
       "<table border=\"1\" class=\"dataframe\">\n",
       "  <thead>\n",
       "    <tr style=\"text-align: right;\">\n",
       "      <th></th>\n",
       "      <th>Date Time</th>\n",
       "      <th>p (mbar)</th>\n",
       "      <th>T (degC)</th>\n",
       "      <th>Tpot (K)</th>\n",
       "      <th>Tdew (degC)</th>\n",
       "      <th>rh (%)</th>\n",
       "      <th>VPmax (mbar)</th>\n",
       "      <th>VPact (mbar)</th>\n",
       "      <th>VPdef (mbar)</th>\n",
       "      <th>sh (g/kg)</th>\n",
       "      <th>H2OC (mmol/mol)</th>\n",
       "      <th>rho (g/m**3)</th>\n",
       "      <th>wv (m/s)</th>\n",
       "      <th>max. wv (m/s)</th>\n",
       "      <th>wd (deg)</th>\n",
       "      <th>rain (mm)</th>\n",
       "      <th>raining (s)</th>\n",
       "      <th>SWDR (W/m²)</th>\n",
       "      <th>PAR (µmol/m²/s)</th>\n",
       "      <th>max. PAR (µmol/m²/s)</th>\n",
       "      <th>Tlog (degC)</th>\n",
       "      <th>CO2 (ppm)</th>\n",
       "    </tr>\n",
       "  </thead>\n",
       "  <tbody>\n",
       "    <tr>\n",
       "      <th>0</th>\n",
       "      <td>01.01.2024 00:10:00</td>\n",
       "      <td>979.65</td>\n",
       "      <td>7.63</td>\n",
       "      <td>282.43</td>\n",
       "      <td>2.83</td>\n",
       "      <td>71.53</td>\n",
       "      <td>10.47</td>\n",
       "      <td>7.49</td>\n",
       "      <td>2.98</td>\n",
       "      <td>4.77</td>\n",
       "      <td>7.64</td>\n",
       "      <td>1211.93</td>\n",
       "      <td>3.37</td>\n",
       "      <td>5.04</td>\n",
       "      <td>209.0</td>\n",
       "      <td>0.0</td>\n",
       "      <td>0.0</td>\n",
       "      <td>0.0</td>\n",
       "      <td>0.0</td>\n",
       "      <td>0.0</td>\n",
       "      <td>15.38</td>\n",
       "      <td>428.8</td>\n",
       "    </tr>\n",
       "    <tr>\n",
       "      <th>1</th>\n",
       "      <td>01.01.2024 00:20:00</td>\n",
       "      <td>979.56</td>\n",
       "      <td>7.63</td>\n",
       "      <td>282.45</td>\n",
       "      <td>2.76</td>\n",
       "      <td>71.18</td>\n",
       "      <td>10.47</td>\n",
       "      <td>7.45</td>\n",
       "      <td>3.02</td>\n",
       "      <td>4.75</td>\n",
       "      <td>7.61</td>\n",
       "      <td>1211.82</td>\n",
       "      <td>2.63</td>\n",
       "      <td>4.50</td>\n",
       "      <td>204.5</td>\n",
       "      <td>0.0</td>\n",
       "      <td>0.0</td>\n",
       "      <td>0.0</td>\n",
       "      <td>0.0</td>\n",
       "      <td>0.0</td>\n",
       "      <td>15.42</td>\n",
       "      <td>428.1</td>\n",
       "    </tr>\n",
       "    <tr>\n",
       "      <th>2</th>\n",
       "      <td>01.01.2024 00:30:00</td>\n",
       "      <td>979.51</td>\n",
       "      <td>7.56</td>\n",
       "      <td>282.37</td>\n",
       "      <td>2.66</td>\n",
       "      <td>71.00</td>\n",
       "      <td>10.42</td>\n",
       "      <td>7.40</td>\n",
       "      <td>3.02</td>\n",
       "      <td>4.71</td>\n",
       "      <td>7.55</td>\n",
       "      <td>1212.11</td>\n",
       "      <td>3.48</td>\n",
       "      <td>6.96</td>\n",
       "      <td>208.1</td>\n",
       "      <td>0.0</td>\n",
       "      <td>0.0</td>\n",
       "      <td>0.0</td>\n",
       "      <td>0.0</td>\n",
       "      <td>0.0</td>\n",
       "      <td>15.47</td>\n",
       "      <td>428.3</td>\n",
       "    </tr>\n",
       "    <tr>\n",
       "      <th>3</th>\n",
       "      <td>01.01.2024 00:40:00</td>\n",
       "      <td>979.43</td>\n",
       "      <td>7.51</td>\n",
       "      <td>282.33</td>\n",
       "      <td>2.59</td>\n",
       "      <td>70.91</td>\n",
       "      <td>10.38</td>\n",
       "      <td>7.36</td>\n",
       "      <td>3.02</td>\n",
       "      <td>4.69</td>\n",
       "      <td>7.52</td>\n",
       "      <td>1212.25</td>\n",
       "      <td>3.73</td>\n",
       "      <td>5.13</td>\n",
       "      <td>201.8</td>\n",
       "      <td>0.0</td>\n",
       "      <td>0.0</td>\n",
       "      <td>0.0</td>\n",
       "      <td>0.0</td>\n",
       "      <td>0.0</td>\n",
       "      <td>15.52</td>\n",
       "      <td>427.8</td>\n",
       "    </tr>\n",
       "    <tr>\n",
       "      <th>4</th>\n",
       "      <td>01.01.2024 00:50:00</td>\n",
       "      <td>979.35</td>\n",
       "      <td>7.42</td>\n",
       "      <td>282.25</td>\n",
       "      <td>2.51</td>\n",
       "      <td>70.93</td>\n",
       "      <td>10.32</td>\n",
       "      <td>7.32</td>\n",
       "      <td>3.00</td>\n",
       "      <td>4.66</td>\n",
       "      <td>7.47</td>\n",
       "      <td>1212.56</td>\n",
       "      <td>3.06</td>\n",
       "      <td>4.21</td>\n",
       "      <td>198.6</td>\n",
       "      <td>0.0</td>\n",
       "      <td>0.0</td>\n",
       "      <td>0.0</td>\n",
       "      <td>0.0</td>\n",
       "      <td>0.0</td>\n",
       "      <td>15.53</td>\n",
       "      <td>428.0</td>\n",
       "    </tr>\n",
       "  </tbody>\n",
       "</table>\n",
       "</div>"
      ],
      "text/plain": [
       "             Date Time  p (mbar)  T (degC)  Tpot (K)  ...  PAR (µmol/m²/s)  max. PAR (µmol/m²/s)  Tlog (degC)  CO2 (ppm)\n",
       "0  01.01.2024 00:10:00    979.65      7.63    282.43  ...              0.0                   0.0        15.38      428.8\n",
       "1  01.01.2024 00:20:00    979.56      7.63    282.45  ...              0.0                   0.0        15.42      428.1\n",
       "2  01.01.2024 00:30:00    979.51      7.56    282.37  ...              0.0                   0.0        15.47      428.3\n",
       "3  01.01.2024 00:40:00    979.43      7.51    282.33  ...              0.0                   0.0        15.52      427.8\n",
       "4  01.01.2024 00:50:00    979.35      7.42    282.25  ...              0.0                   0.0        15.53      428.0\n",
       "\n",
       "[5 rows x 22 columns]"
      ]
     },
     "execution_count": 13,
     "metadata": {},
     "output_type": "execute_result"
    }
   ],
   "source": [
    "d = pd.read_csv('mpi_roof.csv',encoding='unicode_escape')\n",
    "d.head()"
   ]
  },
  {
   "cell_type": "code",
   "execution_count": 55,
   "id": "692c43c2",
   "metadata": {},
   "outputs": [],
   "source": [
    "features = d.drop(columns=['Date Time','wv (m/s)','max. wv (m/s)'])\n",
    "target = d['wv (m/s)'].iloc[:1000]"
   ]
  },
  {
   "cell_type": "code",
   "execution_count": 56,
   "id": "9ff1192f",
   "metadata": {},
   "outputs": [],
   "source": [
    "arima = ARIMA(target,order=(5,1,0))"
   ]
  },
  {
   "cell_type": "code",
   "execution_count": 57,
   "id": "639815a9",
   "metadata": {},
   "outputs": [],
   "source": [
    "arima_fit = arima.fit()"
   ]
  },
  {
   "cell_type": "code",
   "execution_count": 58,
   "id": "7655845d",
   "metadata": {},
   "outputs": [
    {
     "data": {
      "text/html": [
       "<table class=\"simpletable\">\n",
       "<caption>SARIMAX Results</caption>\n",
       "<tr>\n",
       "  <th>Dep. Variable:</th>       <td>wv (m/s)</td>     <th>  No. Observations:  </th>   <td>1000</td>   \n",
       "</tr>\n",
       "<tr>\n",
       "  <th>Model:</th>            <td>ARIMA(5, 1, 0)</td>  <th>  Log Likelihood     </th> <td>-1003.383</td>\n",
       "</tr>\n",
       "<tr>\n",
       "  <th>Date:</th>            <td>Wed, 16 Oct 2024</td> <th>  AIC                </th> <td>2018.765</td> \n",
       "</tr>\n",
       "<tr>\n",
       "  <th>Time:</th>                <td>11:06:29</td>     <th>  BIC                </th> <td>2048.206</td> \n",
       "</tr>\n",
       "<tr>\n",
       "  <th>Sample:</th>                  <td>0</td>        <th>  HQIC               </th> <td>2029.955</td> \n",
       "</tr>\n",
       "<tr>\n",
       "  <th></th>                      <td> - 1000</td>     <th>                     </th>     <td> </td>    \n",
       "</tr>\n",
       "<tr>\n",
       "  <th>Covariance Type:</th>        <td>opg</td>       <th>                     </th>     <td> </td>    \n",
       "</tr>\n",
       "</table>\n",
       "<table class=\"simpletable\">\n",
       "<tr>\n",
       "     <td></td>       <th>coef</th>     <th>std err</th>      <th>z</th>      <th>P>|z|</th>  <th>[0.025</th>    <th>0.975]</th>  \n",
       "</tr>\n",
       "<tr>\n",
       "  <th>ar.L1</th>  <td>   -0.1714</td> <td>    0.025</td> <td>   -6.749</td> <td> 0.000</td> <td>   -0.221</td> <td>   -0.122</td>\n",
       "</tr>\n",
       "<tr>\n",
       "  <th>ar.L2</th>  <td>   -0.1577</td> <td>    0.029</td> <td>   -5.347</td> <td> 0.000</td> <td>   -0.216</td> <td>   -0.100</td>\n",
       "</tr>\n",
       "<tr>\n",
       "  <th>ar.L3</th>  <td>   -0.0989</td> <td>    0.029</td> <td>   -3.452</td> <td> 0.001</td> <td>   -0.155</td> <td>   -0.043</td>\n",
       "</tr>\n",
       "<tr>\n",
       "  <th>ar.L4</th>  <td>   -0.1065</td> <td>    0.029</td> <td>   -3.682</td> <td> 0.000</td> <td>   -0.163</td> <td>   -0.050</td>\n",
       "</tr>\n",
       "<tr>\n",
       "  <th>ar.L5</th>  <td>   -0.0277</td> <td>    0.028</td> <td>   -0.991</td> <td> 0.322</td> <td>   -0.082</td> <td>    0.027</td>\n",
       "</tr>\n",
       "<tr>\n",
       "  <th>sigma2</th> <td>    0.4364</td> <td>    0.015</td> <td>   29.681</td> <td> 0.000</td> <td>    0.408</td> <td>    0.465</td>\n",
       "</tr>\n",
       "</table>\n",
       "<table class=\"simpletable\">\n",
       "<tr>\n",
       "  <th>Ljung-Box (L1) (Q):</th>     <td>0.00</td> <th>  Jarque-Bera (JB):  </th> <td>108.52</td>\n",
       "</tr>\n",
       "<tr>\n",
       "  <th>Prob(Q):</th>                <td>0.95</td> <th>  Prob(JB):          </th>  <td>0.00</td> \n",
       "</tr>\n",
       "<tr>\n",
       "  <th>Heteroskedasticity (H):</th> <td>0.39</td> <th>  Skew:              </th>  <td>-0.21</td>\n",
       "</tr>\n",
       "<tr>\n",
       "  <th>Prob(H) (two-sided):</th>    <td>0.00</td> <th>  Kurtosis:          </th>  <td>4.56</td> \n",
       "</tr>\n",
       "</table><br/><br/>Warnings:<br/>[1] Covariance matrix calculated using the outer product of gradients (complex-step)."
      ],
      "text/latex": [
       "\\begin{center}\n",
       "\\begin{tabular}{lclc}\n",
       "\\toprule\n",
       "\\textbf{Dep. Variable:}          &     wv (m/s)     & \\textbf{  No. Observations:  } &    1000     \\\\\n",
       "\\textbf{Model:}                  &  ARIMA(5, 1, 0)  & \\textbf{  Log Likelihood     } & -1003.383   \\\\\n",
       "\\textbf{Date:}                   & Wed, 16 Oct 2024 & \\textbf{  AIC                } &  2018.765   \\\\\n",
       "\\textbf{Time:}                   &     11:06:29     & \\textbf{  BIC                } &  2048.206   \\\\\n",
       "\\textbf{Sample:}                 &        0         & \\textbf{  HQIC               } &  2029.955   \\\\\n",
       "\\textbf{}                        &      - 1000      & \\textbf{                     } &             \\\\\n",
       "\\textbf{Covariance Type:}        &       opg        & \\textbf{                     } &             \\\\\n",
       "\\bottomrule\n",
       "\\end{tabular}\n",
       "\\begin{tabular}{lcccccc}\n",
       "                & \\textbf{coef} & \\textbf{std err} & \\textbf{z} & \\textbf{P$> |$z$|$} & \\textbf{[0.025} & \\textbf{0.975]}  \\\\\n",
       "\\midrule\n",
       "\\textbf{ar.L1}  &      -0.1714  &        0.025     &    -6.749  &         0.000        &       -0.221    &       -0.122     \\\\\n",
       "\\textbf{ar.L2}  &      -0.1577  &        0.029     &    -5.347  &         0.000        &       -0.216    &       -0.100     \\\\\n",
       "\\textbf{ar.L3}  &      -0.0989  &        0.029     &    -3.452  &         0.001        &       -0.155    &       -0.043     \\\\\n",
       "\\textbf{ar.L4}  &      -0.1065  &        0.029     &    -3.682  &         0.000        &       -0.163    &       -0.050     \\\\\n",
       "\\textbf{ar.L5}  &      -0.0277  &        0.028     &    -0.991  &         0.322        &       -0.082    &        0.027     \\\\\n",
       "\\textbf{sigma2} &       0.4364  &        0.015     &    29.681  &         0.000        &        0.408    &        0.465     \\\\\n",
       "\\bottomrule\n",
       "\\end{tabular}\n",
       "\\begin{tabular}{lclc}\n",
       "\\textbf{Ljung-Box (L1) (Q):}     & 0.00 & \\textbf{  Jarque-Bera (JB):  } & 108.52  \\\\\n",
       "\\textbf{Prob(Q):}                & 0.95 & \\textbf{  Prob(JB):          } &  0.00   \\\\\n",
       "\\textbf{Heteroskedasticity (H):} & 0.39 & \\textbf{  Skew:              } & -0.21   \\\\\n",
       "\\textbf{Prob(H) (two-sided):}    & 0.00 & \\textbf{  Kurtosis:          } &  4.56   \\\\\n",
       "\\bottomrule\n",
       "\\end{tabular}\n",
       "%\\caption{SARIMAX Results}\n",
       "\\end{center}\n",
       "\n",
       "Warnings: \\newline\n",
       " [1] Covariance matrix calculated using the outer product of gradients (complex-step)."
      ],
      "text/plain": [
       "<class 'statsmodels.iolib.summary.Summary'>\n",
       "\"\"\"\n",
       "                               SARIMAX Results                                \n",
       "==============================================================================\n",
       "Dep. Variable:               wv (m/s)   No. Observations:                 1000\n",
       "Model:                 ARIMA(5, 1, 0)   Log Likelihood               -1003.383\n",
       "Date:                Wed, 16 Oct 2024   AIC                           2018.765\n",
       "Time:                        11:06:29   BIC                           2048.206\n",
       "Sample:                             0   HQIC                          2029.955\n",
       "                               - 1000                                         \n",
       "Covariance Type:                  opg                                         \n",
       "==============================================================================\n",
       "                 coef    std err          z      P>|z|      [0.025      0.975]\n",
       "------------------------------------------------------------------------------\n",
       "ar.L1         -0.1714      0.025     -6.749      0.000      -0.221      -0.122\n",
       "ar.L2         -0.1577      0.029     -5.347      0.000      -0.216      -0.100\n",
       "ar.L3         -0.0989      0.029     -3.452      0.001      -0.155      -0.043\n",
       "ar.L4         -0.1065      0.029     -3.682      0.000      -0.163      -0.050\n",
       "ar.L5         -0.0277      0.028     -0.991      0.322      -0.082       0.027\n",
       "sigma2         0.4364      0.015     29.681      0.000       0.408       0.465\n",
       "===================================================================================\n",
       "Ljung-Box (L1) (Q):                   0.00   Jarque-Bera (JB):               108.52\n",
       "Prob(Q):                              0.95   Prob(JB):                         0.00\n",
       "Heteroskedasticity (H):               0.39   Skew:                            -0.21\n",
       "Prob(H) (two-sided):                  0.00   Kurtosis:                         4.56\n",
       "===================================================================================\n",
       "\n",
       "Warnings:\n",
       "[1] Covariance matrix calculated using the outer product of gradients (complex-step).\n",
       "\"\"\""
      ]
     },
     "execution_count": 58,
     "metadata": {},
     "output_type": "execute_result"
    }
   ],
   "source": [
    "arima_fit.summary()"
   ]
  },
  {
   "cell_type": "code",
   "execution_count": 59,
   "id": "5e77e849",
   "metadata": {},
   "outputs": [
    {
     "data": {
      "text/plain": [
       "<AxesSubplot:ylabel='Density'>"
      ]
     },
     "execution_count": 59,
     "metadata": {},
     "output_type": "execute_result"
    },
    {
     "data": {
      "image/png": "[encoded data removed]",
      "text/plain": [
       "<Figure size 640x480 with 1 Axes>"
      ]
     },
     "metadata": {},
     "output_type": "display_data"
    }
   ],
   "source": [
    "residuals = pd.DataFrame(arima_fit.resid)\n",
    "residuals.plot(kind='kde')"
   ]
  },
  {
   "cell_type": "code",
   "execution_count": 60,
   "id": "2192bbdf",
   "metadata": {},
   "outputs": [],
   "source": [
    "ind = int(np.floor(0.66*len(target)))\n",
    "train_data = target.iloc[:ind].values\n",
    "test_data = target.iloc[ind:].values"
   ]
  },
  {
   "cell_type": "code",
   "execution_count": 67,
   "id": "88840eae",
   "metadata": {},
   "outputs": [],
   "source": [
    "predictions = []\n",
    "train_data = list(train_data)\n",
    "for i in range(len(test_data)):\n",
    "    arima = ARIMA(train_data,order=(5,2,0))\n",
    "    arima_fit = arima.fit()\n",
    "    pred = arima_fit.forecast()\n",
    "    predictions.append(pred)\n",
    "    train_data.append(test_data[i])"
   ]
  },
  {
   "cell_type": "code",
   "execution_count": 72,
   "id": "af0d6e31",
   "metadata": {},
   "outputs": [
    {
     "data": {
      "text/plain": [
       "0.311036684067252"
      ]
     },
     "execution_count": 72,
     "metadata": {},
     "output_type": "execute_result"
    }
   ],
   "source": [
    "mean_squared_error(predictions,test_data)"
   ]
  },
  {
   "cell_type": "code",
   "execution_count": 69,
   "id": "b94e16e0",
   "metadata": {},
   "outputs": [],
   "source": [
    "x = [1,2,3]\n",
    "x.append(4)"
   ]
  },
  {
   "cell_type": "code",
   "execution_count": 74,
   "id": "05f5df23",
   "metadata": {},
   "outputs": [
    {
     "data": {
      "text/plain": [
       "[<matplotlib.lines.Line2D at 0x1f884f80e80>]"
      ]
     },
     "execution_count": 74,
     "metadata": {},
     "output_type": "execute_result"
    },
    {
     "data": {
      "image/png": "[encoded data removed]",
      "text/plain": [
       "<Figure size 640x480 with 1 Axes>"
      ]
     },
     "metadata": {},
     "output_type": "display_data"
    }
   ],
   "source": [
    "plt.plot(predictions)\n",
    "plt.plot(test_data,'r')"
   ]
  },
  {
   "cell_type": "code",
   "execution_count": null,
   "id": "260ad433",
   "metadata": {},
   "outputs": [],
   "source": []
  }
 ],
 "metadata": {
  "kernelspec": {
   "display_name": "Python 3 (ipykernel)",
   "language": "python",
   "name": "python3"
  },
  "language_info": {
   "codemirror_mode": {
    "name": "ipython",
    "version": 3
   },
   "file_extension": ".py",
   "mimetype": "text/x-python",
   "name": "python",
   "nbconvert_exporter": "python",
   "pygments_lexer": "ipython3",
   "version": "3.9.13"
  }
 },
 "nbformat": 4,
 "nbformat_minor": 5
}
